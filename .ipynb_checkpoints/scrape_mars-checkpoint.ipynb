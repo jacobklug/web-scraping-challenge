{
 "cells": [
  {
   "cell_type": "code",
   "execution_count": 1,
   "metadata": {},
   "outputs": [],
   "source": [
    "from bs4 import BeautifulSoup \n",
    "from splinter import Browser\n",
    "import pandas as pd \n",
    "import requests "
   ]
  },
  {
   "cell_type": "code",
   "execution_count": 3,
   "metadata": {},
   "outputs": [],
   "source": [
    "def init_browser(): \n",
    "    \n",
    "    executable_path = {'executable_path': '/usr/local/bin/chromedriver'}\n",
    "    return Browser('chrome', **executable_path, headless=False)"
   ]
  },
  {
   "cell_type": "code",
   "execution_count": 4,
   "metadata": {},
   "outputs": [],
   "source": [
    "mars_info = {}"
   ]
  },
  {
   "cell_type": "code",
   "execution_count": 5,
   "metadata": {},
   "outputs": [],
   "source": [
    "def scrape_mars_news():\n",
    "    try: \n",
    "        browser = init_browser()\n",
    "        url = 'https://mars.nasa.gov/news/'\n",
    "        browser.visit(url)\n",
    "\n",
    "        html = browser.html\n",
    "\n",
    "        soup = BeautifulSoup(html, 'html.parser')\n",
    "\n",
    "        news_title = soup.find('div', class_='content_title').find('a').text\n",
    "        news_p = soup.find('div', class_='article_teaser_body').text\n",
    "\n",
    "        mars_info['news_title'] = news_title\n",
    "        mars_info['news_paragraph'] = news_p\n",
    "\n",
    "        return mars_info\n",
    "\n",
    "    finally:\n",
    "\n",
    "        browser.quit()\n"
   ]
  },
  {
   "cell_type": "code",
   "execution_count": 6,
   "metadata": {},
   "outputs": [],
   "source": [
    "def scrape_mars_image():\n",
    "\n",
    "    try: \n",
    "\n",
    "        browser = init_browser()\n",
    "\n",
    "        image_url_featured = 'https://www.jpl.nasa.gov/spaceimages/images/largesize/PIA16225_hires.jpg'\n",
    "        browser.visit(image_url_featured)\n",
    "\n",
    "        html_image = browser.html\n",
    "\n",
    "        soup = BeautifulSoup(html_image, 'html.parser')\n",
    "\n",
    "        featured_image_url  = soup.find('article')['style'].replace('background-image: url(','').replace(');', '')[1:-1]\n",
    "\n",
    "        main_url = 'https://www.jpl.nasa.gov'\n",
    "\n",
    "        featured_image_url = main_url + featured_image_url\n",
    "\n",
    "        featured_image_url \n",
    "\n",
    "        mars_info['featured_image_url'] = featured_image_url \n",
    "        \n",
    "        return mars_info\n",
    "    finally:\n",
    "\n",
    "        browser.quit()"
   ]
  },
  {
   "cell_type": "code",
   "execution_count": 7,
   "metadata": {},
   "outputs": [],
   "source": [
    "def scrape_mars_weather():\n",
    "\n",
    "    try: \n",
    "\n",
    "        browser = init_browser()\n",
    "\n",
    "        weather_url = 'https://twitter.com/marswxreport?lang=en'\n",
    "        browser.visit(weather_url)\n",
    "\n",
    "        html_weather = browser.html\n",
    "\n",
    "        soup = BeautifulSoup(html_weather, 'html.parser')\n",
    "\n",
    "        latest_tweets = soup.find_all('div', class_='js-tweet-text-container')\n",
    "\n",
    "        for tweet in latest_tweets: \n",
    "            weather_tweet = tweet.find('p').text\n",
    "            if 'Sol' and 'pressure' in weather_tweet:\n",
    "                print(weather_tweet)\n",
    "                break\n",
    "            else: \n",
    "                pass\n",
    "\n",
    "        mars_info['weather_tweet'] = weather_tweet\n",
    "        \n",
    "        return mars_info\n",
    "    finally:\n",
    "\n",
    "        browser.quit()\n"
   ]
  },
  {
   "cell_type": "code",
   "execution_count": null,
   "metadata": {},
   "outputs": [],
   "source": [
    "def scrape_mars_hemispheres():\n",
    "\n",
    "    try: \n",
    "\n",
    "        browser = init_browser()\n",
    "\n",
    "        hemispheres_url = 'https://astrogeology.usgs.gov/search/results?q=hemisphere+enhanced&k1=target&v1=Mars'\n",
    "        browser.visit(hemispheres_url)\n",
    "\n",
    "        html_hemispheres = browser.html\n",
    "\n",
    "        soup = BeautifulSoup(html_hemispheres, 'html.parser')\n",
    "\n",
    "        items = soup.find_all('div', class_='item')\n",
    "\n",
    "        hiu = []\n",
    "\n",
    "        hemispheres_main_url = 'https://astrogeology.usgs.gov' \n",
    "\n",
    "        for i in items: \n",
    "            title = i.find('h3').text\n",
    "            \n",
    "            partial_img_url = i.find('a', class_='itemLink product-item')['href']\n",
    "            \n",
    "            browser.visit(hemispheres_main_url + partial_img_url)\n",
    "            \n",
    "            partial_img_html = browser.html\n",
    "            \n",
    "            soup = BeautifulSoup( partial_img_html, 'html.parser')\n",
    "            \n",
    "            img_url = hemispheres_main_url + soup.find('img', class_='wide-image')['src']\n",
    "            \n",
    "            hiu.append({\"title\" : title, \"img_url\" : img_url})\n",
    "\n",
    "        mars_info['hiu'] = hiu\n",
    "\n",
    "        \n",
    "        return mars_info\n",
    "    finally:\n",
    "\n",
    "        browser.quit()"
   ]
  }
 ],
 "metadata": {
  "kernelspec": {
   "display_name": "Python 3",
   "language": "python",
   "name": "python3"
  },
  "language_info": {
   "codemirror_mode": {
    "name": "ipython",
    "version": 3
   },
   "file_extension": ".py",
   "mimetype": "text/x-python",
   "name": "python",
   "nbconvert_exporter": "python",
   "pygments_lexer": "ipython3",
   "version": "3.7.3"
  }
 },
 "nbformat": 4,
 "nbformat_minor": 2
}
